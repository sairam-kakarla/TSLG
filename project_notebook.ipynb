{
 "cells": [
  {
   "cell_type": "markdown",
   "id": "bdf155b8",
   "metadata": {},
   "source": [
    "## Loading the corpus"
   ]
  },
  {
   "cell_type": "code",
   "execution_count": 143,
   "id": "54edcb32",
   "metadata": {},
   "outputs": [],
   "source": [
    "songs=[]\n",
    "base_file_name=\"corpus/a_{index}.txt\"\n",
    "for i in range(1,370):\n",
    "    try:\n",
    "        song=open(base_file_name.format(index=i),\"r\",encoding=\"utf-8\")\n",
    "        lyrics=song.readlines()\n",
    "        songs.append(\"\".join(lyrics))\n",
    "    except FileNotFoundError:\n",
    "        pass"
   ]
  },
  {
   "cell_type": "markdown",
   "id": "dbd6d8af",
   "metadata": {},
   "source": [
    "## Data Preprocessing\n",
    "- most of the data is cleanging while scraping the data itself.\n",
    "- Punctuations and \\u200c must be replaced with white space.\n",
    "- EOF must be replaced with \\s\\n\\s so that end of line is considered as special word itself"
   ]
  },
  {
   "cell_type": "code",
   "execution_count": 144,
   "id": "739b5e7c",
   "metadata": {},
   "outputs": [],
   "source": [
    "for i in range(len(songs)):\n",
    "    songs[i]=songs[i].replace(\"\\n\",\" \\n \")\n",
    "    songs[i]=songs[i].replace(\"\\u200c\",\"\")\n",
    "    songs[i]=songs[i].replace(\".\",\" \")\n",
    "    songs[i]=songs[i].replace(\"?\",\" \")\n",
    "    songs[i]=songs[i].replace(\",\",\" \")\n",
    "    songs[i]=songs[i].replace(\"!\",\" \")\n",
    "    if songs[i][-1]!=\" \":\n",
    "        songs[i]+=\" \\n \""
   ]
  },
  {
   "cell_type": "markdown",
   "id": "8a6497aa",
   "metadata": {},
   "source": [
    "## Corpus Statistics"
   ]
  },
  {
   "cell_type": "code",
   "execution_count": 157,
   "id": "1eea22b5",
   "metadata": {},
   "outputs": [],
   "source": [
    "words_count=[]\n",
    "chars_count=[]\n",
    "unique_words={}"
   ]
  },
  {
   "cell_type": "code",
   "execution_count": 158,
   "id": "0cb9035e",
   "metadata": {},
   "outputs": [],
   "source": [
    "for i in range(len(songs)):\n",
    "    word_count=len(songs[i].split())\n",
    "    char_count=sum([len(i) for i in songs[i].split()])\n",
    "    words_count.append(word_count)\n",
    "    chars_count.append(char_count)\n",
    "    for i in songs[i].split():\n",
    "        if i not in unique_words:\n",
    "            unique_words[i]=1\n",
    "        else:\n",
    "            unique_words[i]+=1\n",
    "    "
   ]
  },
  {
   "cell_type": "code",
   "execution_count": 159,
   "id": "4a580230",
   "metadata": {},
   "outputs": [],
   "source": [
    "import numpy as np\n",
    "from matplotlib import pyplot as plt\n",
    "%matplotlib inline"
   ]
  },
  {
   "cell_type": "code",
   "execution_count": 160,
   "id": "41fa1c92",
   "metadata": {},
   "outputs": [
    {
     "data": {
      "text/plain": [
       "Text(0, 0.5, 'number of songs')"
      ]
     },
     "execution_count": 160,
     "metadata": {},
     "output_type": "execute_result"
    },
    {
     "data": {
      "image/png": "[encoded data removed]",
      "text/plain": [
       "<Figure size 432x288 with 1 Axes>"
      ]
     },
     "metadata": {
      "needs_background": "light"
     },
     "output_type": "display_data"
    }
   ],
   "source": [
    "plt.hist(np.array(words_count),bins=15)\n",
    "plt.xlabel(\"word count\")\n",
    "plt.ylabel(\"number of songs\")\n"
   ]
  },
  {
   "cell_type": "markdown",
   "id": "7597e9e9",
   "metadata": {},
   "source": [
    "The average words per song is 193 and there are a lot of songs with word count in the range of 100 to 200"
   ]
  },
  {
   "cell_type": "code",
   "execution_count": 161,
   "id": "fb84a084",
   "metadata": {},
   "outputs": [
    {
     "data": {
      "text/plain": [
       "130"
      ]
     },
     "execution_count": 161,
     "metadata": {},
     "output_type": "execute_result"
    }
   ],
   "source": [
    "round(sum(words_count)/len(words_count))"
   ]
  },
  {
   "cell_type": "code",
   "execution_count": 162,
   "id": "73b0bbd0",
   "metadata": {},
   "outputs": [
    {
     "data": {
      "text/plain": [
       "6"
      ]
     },
     "execution_count": 162,
     "metadata": {},
     "output_type": "execute_result"
    }
   ],
   "source": [
    "round(sum(chars_count)/sum(words_count))"
   ]
  },
  {
   "cell_type": "markdown",
   "id": "8fe297d0",
   "metadata": {},
   "source": [
    "The average character per word count is 6 characters per word."
   ]
  },
  {
   "cell_type": "code",
   "execution_count": 189,
   "id": "e1cfa54e",
   "metadata": {},
   "outputs": [
    {
     "data": {
      "text/html": [
       "<div>\n",
       "<style scoped>\n",
       "    .dataframe tbody tr th:only-of-type {\n",
       "        vertical-align: middle;\n",
       "    }\n",
       "\n",
       "    .dataframe tbody tr th {\n",
       "        vertical-align: top;\n",
       "    }\n",
       "\n",
       "    .dataframe thead th {\n",
       "        text-align: right;\n",
       "    }\n",
       "</style>\n",
       "<table border=\"1\" class=\"dataframe\">\n",
       "  <thead>\n",
       "    <tr style=\"text-align: right;\">\n",
       "      <th></th>\n",
       "      <th>count</th>\n",
       "      <th>word</th>\n",
       "    </tr>\n",
       "  </thead>\n",
       "  <tbody>\n",
       "    <tr>\n",
       "      <th>1</th>\n",
       "      <td>310</td>\n",
       "      <td>ఆ</td>\n",
       "    </tr>\n",
       "    <tr>\n",
       "      <th>2</th>\n",
       "      <td>13</td>\n",
       "      <td>నవ్వులో</td>\n",
       "    </tr>\n",
       "    <tr>\n",
       "      <th>3</th>\n",
       "      <td>1</td>\n",
       "      <td>ఏమున్నదో</td>\n",
       "    </tr>\n",
       "    <tr>\n",
       "      <th>4</th>\n",
       "      <td>1</td>\n",
       "      <td>చలించింది</td>\n",
       "    </tr>\n",
       "    <tr>\n",
       "      <th>5</th>\n",
       "      <td>497</td>\n",
       "      <td>నా</td>\n",
       "    </tr>\n",
       "  </tbody>\n",
       "</table>\n",
       "</div>"
      ],
      "text/plain": [
       "   count       word\n",
       "1    310          ఆ\n",
       "2     13    నవ్వులో\n",
       "3      1   ఏమున్నదో\n",
       "4      1  చలించింది\n",
       "5    497         నా"
      ]
     },
     "execution_count": 189,
     "metadata": {},
     "output_type": "execute_result"
    }
   ],
   "source": [
    "word_freq=pd.DataFrame.from_dict(unique_words,orient=\"index\")\n",
    "word_freq[\"word\"]=word_freq.index\n",
    "word_freq.index=range(1,len(word_freq.index)+1)\n",
    "word_freq=word_freq.rename(columns={0:\"count\"})\n",
    "word_freq.head()"
   ]
  },
  {
   "cell_type": "code",
   "execution_count": 192,
   "id": "d3d9c7c5",
   "metadata": {},
   "outputs": [
    {
     "data": {
      "text/html": [
       "<div>\n",
       "<style scoped>\n",
       "    .dataframe tbody tr th:only-of-type {\n",
       "        vertical-align: middle;\n",
       "    }\n",
       "\n",
       "    .dataframe tbody tr th {\n",
       "        vertical-align: top;\n",
       "    }\n",
       "\n",
       "    .dataframe thead th {\n",
       "        text-align: right;\n",
       "    }\n",
       "</style>\n",
       "<table border=\"1\" class=\"dataframe\">\n",
       "  <thead>\n",
       "    <tr style=\"text-align: right;\">\n",
       "      <th></th>\n",
       "      <th>count</th>\n",
       "      <th>word</th>\n",
       "    </tr>\n",
       "  </thead>\n",
       "  <tbody>\n",
       "    <tr>\n",
       "      <th>131</th>\n",
       "      <td>743</td>\n",
       "      <td>నీ</td>\n",
       "    </tr>\n",
       "    <tr>\n",
       "      <th>143</th>\n",
       "      <td>509</td>\n",
       "      <td>ఈ</td>\n",
       "    </tr>\n",
       "    <tr>\n",
       "      <th>5</th>\n",
       "      <td>497</td>\n",
       "      <td>నా</td>\n",
       "    </tr>\n",
       "    <tr>\n",
       "      <th>1</th>\n",
       "      <td>310</td>\n",
       "      <td>ఆ</td>\n",
       "    </tr>\n",
       "    <tr>\n",
       "      <th>797</th>\n",
       "      <td>269</td>\n",
       "      <td>ఓ</td>\n",
       "    </tr>\n",
       "    <tr>\n",
       "      <th>...</th>\n",
       "      <td>...</td>\n",
       "      <td>...</td>\n",
       "    </tr>\n",
       "    <tr>\n",
       "      <th>8770</th>\n",
       "      <td>1</td>\n",
       "      <td>మతిమరచి</td>\n",
       "    </tr>\n",
       "    <tr>\n",
       "      <th>8771</th>\n",
       "      <td>1</td>\n",
       "      <td>శూలాన</td>\n",
       "    </tr>\n",
       "    <tr>\n",
       "      <th>8772</th>\n",
       "      <td>1</td>\n",
       "      <td>మెడవిరిచి</td>\n",
       "    </tr>\n",
       "    <tr>\n",
       "      <th>8773</th>\n",
       "      <td>1</td>\n",
       "      <td>చూపె</td>\n",
       "    </tr>\n",
       "    <tr>\n",
       "      <th>19077</th>\n",
       "      <td>1</td>\n",
       "      <td>time</td>\n",
       "    </tr>\n",
       "  </tbody>\n",
       "</table>\n",
       "<p>19077 rows × 2 columns</p>\n",
       "</div>"
      ],
      "text/plain": [
       "       count       word\n",
       "131      743         నీ\n",
       "143      509          ఈ\n",
       "5        497         నా\n",
       "1        310          ఆ\n",
       "797      269          ఓ\n",
       "...      ...        ...\n",
       "8770       1    మతిమరచి\n",
       "8771       1      శూలాన\n",
       "8772       1  మెడవిరిచి\n",
       "8773       1       చూపె\n",
       "19077      1       time\n",
       "\n",
       "[19077 rows x 2 columns]"
      ]
     },
     "execution_count": 192,
     "metadata": {},
     "output_type": "execute_result"
    }
   ],
   "source": [
    "word_freq.sort_values(by=\"count\",ascending=False)"
   ]
  },
  {
   "cell_type": "markdown",
   "id": "fc60ed57",
   "metadata": {},
   "source": [
    "words like నీ, ఈ, నా, ఆ are the most repetative words. Most of these words are pronouns. We can see that some important words like time, శూలాన, చూపె have a very less frequency of 1. So we can't filter words based on frequency for feeding into the model"
   ]
  },
  {
   "cell_type": "code",
   "execution_count": null,
   "id": "6694a008",
   "metadata": {},
   "outputs": [],
   "source": []
  }
 ],
 "metadata": {
  "kernelspec": {
   "display_name": "Python 3",
   "language": "python",
   "name": "python3"
  },
  "language_info": {
   "codemirror_mode": {
    "name": "ipython",
    "version": 3
   },
   "file_extension": ".py",
   "mimetype": "text/x-python",
   "name": "python",
   "nbconvert_exporter": "python",
   "pygments_lexer": "ipython3",
   "version": "3.8.8"
  }
 },
 "nbformat": 4,
 "nbformat_minor": 5
}
